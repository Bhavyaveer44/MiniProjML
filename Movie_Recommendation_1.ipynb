{
  "nbformat": 4,
  "nbformat_minor": 0,
  "metadata": {
    "colab": {
      "provenance": [],
      "authorship_tag": "ABX9TyNe5FkhrTWLIHVF+P6OlynO",
      "include_colab_link": true
    },
    "kernelspec": {
      "name": "python3",
      "display_name": "Python 3"
    },
    "language_info": {
      "name": "python"
    }
  },
  "cells": [
    {
      "cell_type": "markdown",
      "metadata": {
        "id": "view-in-github",
        "colab_type": "text"
      },
      "source": [
        "<a href=\"https://colab.research.google.com/github/Bhavyaveer44/MiniProjML/blob/main/Movie_Recommendation_1.ipynb\" target=\"_parent\"><img src=\"https://colab.research.google.com/assets/colab-badge.svg\" alt=\"Open In Colab\"/></a>"
      ]
    },
    {
      "cell_type": "code",
      "source": [
        "import pandas as pd\n",
        "import ast\n",
        "import re\n",
        "from sklearn.feature_extraction.text import TfidfVectorizer\n",
        "from sklearn.metrics.pairwise import cosine_similarity"
      ],
      "metadata": {
        "id": "I5q13qSXKLEC"
      },
      "execution_count": 33,
      "outputs": []
    },
    {
      "cell_type": "code",
      "source": [
        "df = pd.read_csv(\"tmdb_5000_movies.csv\")\n",
        "# Keeping necessary columns only\n",
        "df = df[['title', 'genres', 'keywords']]  # Optionally might add 'overview'"
      ],
      "metadata": {
        "id": "yshfKqHWZhOM"
      },
      "execution_count": 34,
      "outputs": []
    },
    {
      "cell_type": "code",
      "source": [
        "# Function to parse 'genres' and 'keywords' columns\n",
        "def extract_names(text):\n",
        "    try:\n",
        "        items = ast.literal_eval(text)\n",
        "        return \" \".join([item['name'] for item in items])\n",
        "    except:\n",
        "        return \"\"\n",
        "\n",
        "df['genres'] = df['genres'].apply(extract_names)\n",
        "df['keywords'] = df['keywords'].apply(extract_names)\n",
        "\n",
        "# Combining selected features into one\n",
        "df['features'] = df['genres'] + \" \" + df['keywords']\n",
        "\n",
        "# Cleaning the text\n",
        "def clean_text(text):\n",
        "    text = text.lower()\n",
        "    text = re.sub(r'\\W', ' ', text)\n",
        "    return text\n",
        "\n",
        "df['features'] = df['features'].apply(clean_text)"
      ],
      "metadata": {
        "id": "u5uxE_vDZhue"
      },
      "execution_count": 35,
      "outputs": []
    },
    {
      "cell_type": "code",
      "source": [
        "# TF-IDF Vectorizer\n",
        "vectorizer = TfidfVectorizer(stop_words='english')\n",
        "tfidf_matrix = vectorizer.fit_transform(df['features'])\n",
        "\n",
        "# Similarity calculation\n",
        "similarity_matrix = cosine_similarity(tfidf_matrix)\n",
        "\n",
        "def recommend_movies(movie_title, num_recommendations=5):\n",
        "    if movie_title not in df['title'].values:\n",
        "        return \"Movie not found in dataset.\"\n",
        "\n",
        "    movie_index = df[df['title'] == movie_title].index[0]\n",
        "    similarity_scores = list(enumerate(similarity_matrix[movie_index]))\n",
        "    similarity_scores = sorted(similarity_scores, key=lambda x: x[1], reverse=True)\n",
        "    top_indices = [i[0] for i in similarity_scores[1:num_recommendations+1]]\n",
        "    return df.iloc[top_indices]['title'].tolist()"
      ],
      "metadata": {
        "id": "Yj70KRXH8C6y"
      },
      "execution_count": 36,
      "outputs": []
    },
    {
      "cell_type": "code",
      "source": [
        "user_movie = input(\"Enter a movie title: \")\n",
        "try:\n",
        "    num = int(input(\"How many similar movies would you like to see? \"))\n",
        "except ValueError:\n",
        "    print(\"Invalid number. Defaulting to 5.\")\n",
        "    num = 5\n",
        "\n",
        "recommendations = recommend_movies(user_movie, num)\n",
        "if isinstance(recommendations, str):  # Error message from function\n",
        "    print(recommendations)\n",
        "else:\n",
        "    print(\"\\nRecommended Movies:\")\n",
        "    for i, movie in enumerate(recommendations, 1):\n",
        "        print(f\"{i}. {movie}\")\n"
      ],
      "metadata": {
        "id": "_-QUYGBDZgd0",
        "colab": {
          "base_uri": "https://localhost:8080/"
        },
        "outputId": "0b4d4efb-1f96-4a17-bf98-893a2f508af3"
      },
      "execution_count": 37,
      "outputs": [
        {
          "output_type": "stream",
          "name": "stdout",
          "text": [
            "Enter a movie title: The Dark Knight\n",
            "How many similar movies would you like to see? 6\n",
            "\n",
            "Recommended Movies:\n",
            "1. Batman Begins\n",
            "2. The Dark Knight Rises\n",
            "3. Batman & Robin\n",
            "4. Batman\n",
            "5. Batman Returns\n",
            "6. Superman III\n"
          ]
        }
      ]
    },
    {
      "cell_type": "markdown",
      "source": [],
      "metadata": {
        "id": "pmfMGKAr7e5a"
      }
    }
  ]
}